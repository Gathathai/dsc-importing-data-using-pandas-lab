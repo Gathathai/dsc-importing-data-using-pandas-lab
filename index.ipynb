{
 "cells": [
  {
   "cell_type": "markdown",
   "metadata": {},
   "source": [
    "# Importing Data Using Pandas - Lab\n",
    "\n",
    "## Introduction\n",
    "\n",
    "In this lab, you'll get some practice with loading files with summary or metadata, and if you find that easy, the optional \"level up\" content covers loading data from a corrupted csv file.\n",
    "\n",
    "## Objectives\n",
    "You will be able to:\n",
    "\n",
    "- Use pandas to import data from a CSV and and an Excel spreadsheet  \n",
    "\n",
    "##  Loading Files with Summary or Meta Data\n",
    "\n",
    "Load either of the files `'Zipcode_Demos.csv'` or `'Zipcode_Demos.xlsx'`. What's going on with this dataset? Clean it up into a useable format and describe the nuances of how the data is currently formatted.\n",
    "\n",
    "All data files are stored in a folder titled `'Data'`."
   ]
  },
  {
   "cell_type": "code",
   "execution_count": null,
   "metadata": {},
   "outputs": [],
   "source": [
    "#Import Data from a CSV File\n",
    "#You can use the read_csv() function to load data from a CSV file into a Pandas DataFrame\n",
    "\n",
    "import pandas as pd\n",
    "\n",
    "# Import data from a CSV file into a DataFrame\n",
    "csv_file_path = 'data.csv'  # Replace with the actual file path\n",
    "df_csv = pd.read_csv(csv_file_path)\n",
    "\n",
    "# Display the first few rows of the DataFrame\n",
    "print(\"CSV Data:\")\n",
    "print(df_csv.head())\n"
   ]
  },
  {
   "cell_type": "code",
   "execution_count": 2,
   "metadata": {},
   "outputs": [],
   "source": [
    "# Import pandas using the standard alias\n",
    "import pandas as pd\n"
   ]
  },
  {
   "cell_type": "code",
   "execution_count": 3,
   "metadata": {
    "scrolled": true
   },
   "outputs": [
    {
     "name": "stdout",
     "output_type": "stream",
     "text": [
      "   0  Average Statistics Unnamed: 2 Unnamed: 3 Unnamed: 4 Unnamed: 5  \\\n",
      "0  1                 NaN          0        NaN        NaN        NaN   \n",
      "1  2   JURISDICTION NAME    10005.8        NaN        NaN        NaN   \n",
      "2  3  COUNT PARTICIPANTS        9.4        NaN        NaN        NaN   \n",
      "3  4        COUNT FEMALE        4.8        NaN        NaN        NaN   \n",
      "4  5      PERCENT FEMALE      0.404        NaN        NaN        NaN   \n",
      "\n",
      "  Unnamed: 6 Unnamed: 7 Unnamed: 8 Unnamed: 9  ... Unnamed: 37 Unnamed: 38  \\\n",
      "0        NaN        NaN        NaN        NaN  ...         NaN         NaN   \n",
      "1        NaN        NaN        NaN        NaN  ...         NaN         NaN   \n",
      "2        NaN        NaN        NaN        NaN  ...         NaN         NaN   \n",
      "3        NaN        NaN        NaN        NaN  ...         NaN         NaN   \n",
      "4        NaN        NaN        NaN        NaN  ...         NaN         NaN   \n",
      "\n",
      "  Unnamed: 39 Unnamed: 40 Unnamed: 41 Unnamed: 42 Unnamed: 43 Unnamed: 44  \\\n",
      "0         NaN         NaN         NaN         NaN         NaN         NaN   \n",
      "1         NaN         NaN         NaN         NaN         NaN         NaN   \n",
      "2         NaN         NaN         NaN         NaN         NaN         NaN   \n",
      "3         NaN         NaN         NaN         NaN         NaN         NaN   \n",
      "4         NaN         NaN         NaN         NaN         NaN         NaN   \n",
      "\n",
      "  Unnamed: 45 Unnamed: 46  \n",
      "0         NaN         NaN  \n",
      "1         NaN         NaN  \n",
      "2         NaN         NaN  \n",
      "3         NaN         NaN  \n",
      "4         NaN         NaN  \n",
      "\n",
      "[5 rows x 47 columns]\n"
     ]
    }
   ],
   "source": [
    "# Import the file and print the first 5 rows\n",
    "df = None\n",
    "import pandas as pd\n",
    "\n",
    "# Specify the file path\n",
    "csv_file_path = 'Data/Zipcode_Demos.csv'\n",
    "\n",
    "# Load the CSV file into a DataFrame\n",
    "df = pd.read_csv(csv_file_path)\n",
    "\n",
    "# Print the first 5 rows of the DataFrame\n",
    "print(df.head())\n"
   ]
  },
  {
   "cell_type": "code",
   "execution_count": 4,
   "metadata": {},
   "outputs": [
    {
     "name": "stdout",
     "output_type": "stream",
     "text": [
      "     0 Average Statistics Unnamed: 2 Unnamed: 3 Unnamed: 4 Unnamed: 5  \\\n",
      "52  53              10006          6          2       0.33          4   \n",
      "53  54              10007          1          0          0          1   \n",
      "54  55              10009          2          0          0          2   \n",
      "55  56              10010          0          0          0          0   \n",
      "56  57              10011          3          2       0.67          1   \n",
      "\n",
      "   Unnamed: 6 Unnamed: 7 Unnamed: 8 Unnamed: 9  ... Unnamed: 37 Unnamed: 38  \\\n",
      "52       0.67          0          0          6  ...           6         100   \n",
      "53          1          0          0          1  ...           1         100   \n",
      "54          1          0          0          2  ...           2         100   \n",
      "55          0          0          0          0  ...           0           0   \n",
      "56       0.33          0          0          3  ...           3         100   \n",
      "\n",
      "   Unnamed: 39 Unnamed: 40 Unnamed: 41 Unnamed: 42 Unnamed: 43 Unnamed: 44  \\\n",
      "52           0           0           6           1           0           0   \n",
      "53           1           1           0           0           0           0   \n",
      "54           0           0           2           1           0           0   \n",
      "55           0           0           0           0           0           0   \n",
      "56           0           0           3           1           0           0   \n",
      "\n",
      "   Unnamed: 45 Unnamed: 46  \n",
      "52           6         100  \n",
      "53           1         100  \n",
      "54           2         100  \n",
      "55           0           0  \n",
      "56           3         100  \n",
      "\n",
      "[5 rows x 47 columns]\n"
     ]
    }
   ],
   "source": [
    "# Print the last 5 rows of df\n",
    "import pandas as pd\n",
    "\n",
    "# Specify the file path\n",
    "csv_file_path = 'Data/Zipcode_Demos.csv'\n",
    "\n",
    "# Load the CSV file into a DataFrame\n",
    "df = pd.read_csv(csv_file_path)\n",
    "\n",
    "# Print the first 5 rows of the DataFrame\n",
    "print(df.tail())\n"
   ]
  },
  {
   "cell_type": "code",
   "execution_count": null,
   "metadata": {},
   "outputs": [],
   "source": [
    "# What is going on with this data set? Anything unusual?\n",
    "The data has missing value"
   ]
  },
  {
   "cell_type": "code",
   "execution_count": 6,
   "metadata": {
    "scrolled": true
   },
   "outputs": [
    {
     "name": "stdout",
     "output_type": "stream",
     "text": [
      "<class 'pandas.core.frame.DataFrame'>\n",
      "RangeIndex: 57 entries, 0 to 56\n",
      "Data columns (total 47 columns):\n",
      " #   Column              Non-Null Count  Dtype \n",
      "---  ------              --------------  ----- \n",
      " 0   0                   57 non-null     int64 \n",
      " 1   Average Statistics  56 non-null     object\n",
      " 2   Unnamed: 2          57 non-null     object\n",
      " 3   Unnamed: 3          11 non-null     object\n",
      " 4   Unnamed: 4          11 non-null     object\n",
      " 5   Unnamed: 5          11 non-null     object\n",
      " 6   Unnamed: 6          11 non-null     object\n",
      " 7   Unnamed: 7          11 non-null     object\n",
      " 8   Unnamed: 8          11 non-null     object\n",
      " 9   Unnamed: 9          11 non-null     object\n",
      " 10  Unnamed: 10         11 non-null     object\n",
      " 11  Unnamed: 11         11 non-null     object\n",
      " 12  Unnamed: 12         11 non-null     object\n",
      " 13  Unnamed: 13         11 non-null     object\n",
      " 14  Unnamed: 14         11 non-null     object\n",
      " 15  Unnamed: 15         11 non-null     object\n",
      " 16  Unnamed: 16         11 non-null     object\n",
      " 17  Unnamed: 17         11 non-null     object\n",
      " 18  Unnamed: 18         11 non-null     object\n",
      " 19  Unnamed: 19         11 non-null     object\n",
      " 20  Unnamed: 20         11 non-null     object\n",
      " 21  Unnamed: 21         11 non-null     object\n",
      " 22  Unnamed: 22         11 non-null     object\n",
      " 23  Unnamed: 23         11 non-null     object\n",
      " 24  Unnamed: 24         11 non-null     object\n",
      " 25  Unnamed: 25         11 non-null     object\n",
      " 26  Unnamed: 26         11 non-null     object\n",
      " 27  Unnamed: 27         11 non-null     object\n",
      " 28  Unnamed: 28         11 non-null     object\n",
      " 29  Unnamed: 29         11 non-null     object\n",
      " 30  Unnamed: 30         11 non-null     object\n",
      " 31  Unnamed: 31         11 non-null     object\n",
      " 32  Unnamed: 32         11 non-null     object\n",
      " 33  Unnamed: 33         11 non-null     object\n",
      " 34  Unnamed: 34         11 non-null     object\n",
      " 35  Unnamed: 35         11 non-null     object\n",
      " 36  Unnamed: 36         11 non-null     object\n",
      " 37  Unnamed: 37         11 non-null     object\n",
      " 38  Unnamed: 38         11 non-null     object\n",
      " 39  Unnamed: 39         11 non-null     object\n",
      " 40  Unnamed: 40         11 non-null     object\n",
      " 41  Unnamed: 41         11 non-null     object\n",
      " 42  Unnamed: 42         11 non-null     object\n",
      " 43  Unnamed: 43         11 non-null     object\n",
      " 44  Unnamed: 44         11 non-null     object\n",
      " 45  Unnamed: 45         11 non-null     object\n",
      " 46  Unnamed: 46         11 non-null     object\n",
      "dtypes: int64(1), object(46)\n",
      "memory usage: 21.1+ KB\n",
      "None\n",
      "               0\n",
      "count  57.000000\n",
      "mean   29.000000\n",
      "std    16.598193\n",
      "min     1.000000\n",
      "25%    15.000000\n",
      "50%    29.000000\n",
      "75%    43.000000\n",
      "max    57.000000\n"
     ]
    }
   ],
   "source": [
    "# Check the general structure of the dataset\n",
    "print(df.info())\n",
    "\n",
    "# Check for basic statistics\n",
    "print(df.describe())\n"
   ]
  },
  {
   "cell_type": "code",
   "execution_count": 7,
   "metadata": {
    "scrolled": true
   },
   "outputs": [
    {
     "name": "stdout",
     "output_type": "stream",
     "text": [
      "0                      0\n",
      "Average Statistics     1\n",
      "Unnamed: 2             0\n",
      "Unnamed: 3            46\n",
      "Unnamed: 4            46\n",
      "Unnamed: 5            46\n",
      "Unnamed: 6            46\n",
      "Unnamed: 7            46\n",
      "Unnamed: 8            46\n",
      "Unnamed: 9            46\n",
      "Unnamed: 10           46\n",
      "Unnamed: 11           46\n",
      "Unnamed: 12           46\n",
      "Unnamed: 13           46\n",
      "Unnamed: 14           46\n",
      "Unnamed: 15           46\n",
      "Unnamed: 16           46\n",
      "Unnamed: 17           46\n",
      "Unnamed: 18           46\n",
      "Unnamed: 19           46\n",
      "Unnamed: 20           46\n",
      "Unnamed: 21           46\n",
      "Unnamed: 22           46\n",
      "Unnamed: 23           46\n",
      "Unnamed: 24           46\n",
      "Unnamed: 25           46\n",
      "Unnamed: 26           46\n",
      "Unnamed: 27           46\n",
      "Unnamed: 28           46\n",
      "Unnamed: 29           46\n",
      "Unnamed: 30           46\n",
      "Unnamed: 31           46\n",
      "Unnamed: 32           46\n",
      "Unnamed: 33           46\n",
      "Unnamed: 34           46\n",
      "Unnamed: 35           46\n",
      "Unnamed: 36           46\n",
      "Unnamed: 37           46\n",
      "Unnamed: 38           46\n",
      "Unnamed: 39           46\n",
      "Unnamed: 40           46\n",
      "Unnamed: 41           46\n",
      "Unnamed: 42           46\n",
      "Unnamed: 43           46\n",
      "Unnamed: 44           46\n",
      "Unnamed: 45           46\n",
      "Unnamed: 46           46\n",
      "dtype: int64\n"
     ]
    }
   ],
   "source": [
    "# Check for missing values in each column\n",
    "print(df.isnull().sum())\n",
    "\n",
    "# Option 1: Drop rows with missing values\n",
    "df_cleaned = df.dropna()\n",
    "\n",
    "# Option 2: Fill missing values (e.g., with 0 or the column mean)\n",
    "df_cleaned = df.fillna({'ColumnName': 0})  # Replace NaNs in a specific column with 0\n"
   ]
  },
  {
   "cell_type": "code",
   "execution_count": 8,
   "metadata": {},
   "outputs": [
    {
     "name": "stdout",
     "output_type": "stream",
     "text": [
      "0\n"
     ]
    }
   ],
   "source": [
    "# Check for duplicate rows\n",
    "print(df.duplicated().sum())\n",
    "\n",
    "# Remove duplicates\n",
    "df_cleaned = df_cleaned.drop_duplicates()\n"
   ]
  },
  {
   "cell_type": "code",
   "execution_count": 9,
   "metadata": {
    "scrolled": true
   },
   "outputs": [
    {
     "name": "stdout",
     "output_type": "stream",
     "text": [
      "0                      int64\n",
      "Average Statistics    object\n",
      "Unnamed: 2            object\n",
      "Unnamed: 3            object\n",
      "Unnamed: 4            object\n",
      "Unnamed: 5            object\n",
      "Unnamed: 6            object\n",
      "Unnamed: 7            object\n",
      "Unnamed: 8            object\n",
      "Unnamed: 9            object\n",
      "Unnamed: 10           object\n",
      "Unnamed: 11           object\n",
      "Unnamed: 12           object\n",
      "Unnamed: 13           object\n",
      "Unnamed: 14           object\n",
      "Unnamed: 15           object\n",
      "Unnamed: 16           object\n",
      "Unnamed: 17           object\n",
      "Unnamed: 18           object\n",
      "Unnamed: 19           object\n",
      "Unnamed: 20           object\n",
      "Unnamed: 21           object\n",
      "Unnamed: 22           object\n",
      "Unnamed: 23           object\n",
      "Unnamed: 24           object\n",
      "Unnamed: 25           object\n",
      "Unnamed: 26           object\n",
      "Unnamed: 27           object\n",
      "Unnamed: 28           object\n",
      "Unnamed: 29           object\n",
      "Unnamed: 30           object\n",
      "Unnamed: 31           object\n",
      "Unnamed: 32           object\n",
      "Unnamed: 33           object\n",
      "Unnamed: 34           object\n",
      "Unnamed: 35           object\n",
      "Unnamed: 36           object\n",
      "Unnamed: 37           object\n",
      "Unnamed: 38           object\n",
      "Unnamed: 39           object\n",
      "Unnamed: 40           object\n",
      "Unnamed: 41           object\n",
      "Unnamed: 42           object\n",
      "Unnamed: 43           object\n",
      "Unnamed: 44           object\n",
      "Unnamed: 45           object\n",
      "Unnamed: 46           object\n",
      "dtype: object\n"
     ]
    },
    {
     "ename": "KeyError",
     "evalue": "'ColumnName'",
     "output_type": "error",
     "traceback": [
      "\u001b[1;31m---------------------------------------------------------------------------\u001b[0m",
      "\u001b[1;31mKeyError\u001b[0m                                  Traceback (most recent call last)",
      "\u001b[1;32m~\\anaconda3\\envs\\learn-env\\lib\\site-packages\\pandas\\core\\indexes\\base.py\u001b[0m in \u001b[0;36mget_loc\u001b[1;34m(self, key, method, tolerance)\u001b[0m\n\u001b[0;32m   2894\u001b[0m             \u001b[1;32mtry\u001b[0m\u001b[1;33m:\u001b[0m\u001b[1;33m\u001b[0m\u001b[1;33m\u001b[0m\u001b[0m\n\u001b[1;32m-> 2895\u001b[1;33m                 \u001b[1;32mreturn\u001b[0m \u001b[0mself\u001b[0m\u001b[1;33m.\u001b[0m\u001b[0m_engine\u001b[0m\u001b[1;33m.\u001b[0m\u001b[0mget_loc\u001b[0m\u001b[1;33m(\u001b[0m\u001b[0mcasted_key\u001b[0m\u001b[1;33m)\u001b[0m\u001b[1;33m\u001b[0m\u001b[1;33m\u001b[0m\u001b[0m\n\u001b[0m\u001b[0;32m   2896\u001b[0m             \u001b[1;32mexcept\u001b[0m \u001b[0mKeyError\u001b[0m \u001b[1;32mas\u001b[0m \u001b[0merr\u001b[0m\u001b[1;33m:\u001b[0m\u001b[1;33m\u001b[0m\u001b[1;33m\u001b[0m\u001b[0m\n",
      "\u001b[1;32mpandas\\_libs\\index.pyx\u001b[0m in \u001b[0;36mpandas._libs.index.IndexEngine.get_loc\u001b[1;34m()\u001b[0m\n",
      "\u001b[1;32mpandas\\_libs\\index.pyx\u001b[0m in \u001b[0;36mpandas._libs.index.IndexEngine.get_loc\u001b[1;34m()\u001b[0m\n",
      "\u001b[1;32mpandas\\_libs\\hashtable_class_helper.pxi\u001b[0m in \u001b[0;36mpandas._libs.hashtable.PyObjectHashTable.get_item\u001b[1;34m()\u001b[0m\n",
      "\u001b[1;32mpandas\\_libs\\hashtable_class_helper.pxi\u001b[0m in \u001b[0;36mpandas._libs.hashtable.PyObjectHashTable.get_item\u001b[1;34m()\u001b[0m\n",
      "\u001b[1;31mKeyError\u001b[0m: 'ColumnName'",
      "\nThe above exception was the direct cause of the following exception:\n",
      "\u001b[1;31mKeyError\u001b[0m                                  Traceback (most recent call last)",
      "\u001b[1;32m<ipython-input-9-5d49563c6dcb>\u001b[0m in \u001b[0;36m<module>\u001b[1;34m\u001b[0m\n\u001b[0;32m      3\u001b[0m \u001b[1;33m\u001b[0m\u001b[0m\n\u001b[0;32m      4\u001b[0m \u001b[1;31m# Convert columns to appropriate data types (e.g., numeric, datetime)\u001b[0m\u001b[1;33m\u001b[0m\u001b[1;33m\u001b[0m\u001b[1;33m\u001b[0m\u001b[0m\n\u001b[1;32m----> 5\u001b[1;33m \u001b[0mdf_cleaned\u001b[0m\u001b[1;33m[\u001b[0m\u001b[1;34m'ColumnName'\u001b[0m\u001b[1;33m]\u001b[0m \u001b[1;33m=\u001b[0m \u001b[0mpd\u001b[0m\u001b[1;33m.\u001b[0m\u001b[0mto_numeric\u001b[0m\u001b[1;33m(\u001b[0m\u001b[0mdf_cleaned\u001b[0m\u001b[1;33m[\u001b[0m\u001b[1;34m'ColumnName'\u001b[0m\u001b[1;33m]\u001b[0m\u001b[1;33m,\u001b[0m \u001b[0merrors\u001b[0m\u001b[1;33m=\u001b[0m\u001b[1;34m'coerce'\u001b[0m\u001b[1;33m)\u001b[0m\u001b[1;33m\u001b[0m\u001b[1;33m\u001b[0m\u001b[0m\n\u001b[0m\u001b[0;32m      6\u001b[0m \u001b[1;31m# or convert to datetime:\u001b[0m\u001b[1;33m\u001b[0m\u001b[1;33m\u001b[0m\u001b[1;33m\u001b[0m\u001b[0m\n\u001b[0;32m      7\u001b[0m \u001b[1;31m# df_cleaned['DateColumn'] = pd.to_datetime(df_cleaned['DateColumn'], errors='coerce')\u001b[0m\u001b[1;33m\u001b[0m\u001b[1;33m\u001b[0m\u001b[1;33m\u001b[0m\u001b[0m\n",
      "\u001b[1;32m~\\anaconda3\\envs\\learn-env\\lib\\site-packages\\pandas\\core\\frame.py\u001b[0m in \u001b[0;36m__getitem__\u001b[1;34m(self, key)\u001b[0m\n\u001b[0;32m   2900\u001b[0m             \u001b[1;32mif\u001b[0m \u001b[0mself\u001b[0m\u001b[1;33m.\u001b[0m\u001b[0mcolumns\u001b[0m\u001b[1;33m.\u001b[0m\u001b[0mnlevels\u001b[0m \u001b[1;33m>\u001b[0m \u001b[1;36m1\u001b[0m\u001b[1;33m:\u001b[0m\u001b[1;33m\u001b[0m\u001b[1;33m\u001b[0m\u001b[0m\n\u001b[0;32m   2901\u001b[0m                 \u001b[1;32mreturn\u001b[0m \u001b[0mself\u001b[0m\u001b[1;33m.\u001b[0m\u001b[0m_getitem_multilevel\u001b[0m\u001b[1;33m(\u001b[0m\u001b[0mkey\u001b[0m\u001b[1;33m)\u001b[0m\u001b[1;33m\u001b[0m\u001b[1;33m\u001b[0m\u001b[0m\n\u001b[1;32m-> 2902\u001b[1;33m             \u001b[0mindexer\u001b[0m \u001b[1;33m=\u001b[0m \u001b[0mself\u001b[0m\u001b[1;33m.\u001b[0m\u001b[0mcolumns\u001b[0m\u001b[1;33m.\u001b[0m\u001b[0mget_loc\u001b[0m\u001b[1;33m(\u001b[0m\u001b[0mkey\u001b[0m\u001b[1;33m)\u001b[0m\u001b[1;33m\u001b[0m\u001b[1;33m\u001b[0m\u001b[0m\n\u001b[0m\u001b[0;32m   2903\u001b[0m             \u001b[1;32mif\u001b[0m \u001b[0mis_integer\u001b[0m\u001b[1;33m(\u001b[0m\u001b[0mindexer\u001b[0m\u001b[1;33m)\u001b[0m\u001b[1;33m:\u001b[0m\u001b[1;33m\u001b[0m\u001b[1;33m\u001b[0m\u001b[0m\n\u001b[0;32m   2904\u001b[0m                 \u001b[0mindexer\u001b[0m \u001b[1;33m=\u001b[0m \u001b[1;33m[\u001b[0m\u001b[0mindexer\u001b[0m\u001b[1;33m]\u001b[0m\u001b[1;33m\u001b[0m\u001b[1;33m\u001b[0m\u001b[0m\n",
      "\u001b[1;32m~\\anaconda3\\envs\\learn-env\\lib\\site-packages\\pandas\\core\\indexes\\base.py\u001b[0m in \u001b[0;36mget_loc\u001b[1;34m(self, key, method, tolerance)\u001b[0m\n\u001b[0;32m   2895\u001b[0m                 \u001b[1;32mreturn\u001b[0m \u001b[0mself\u001b[0m\u001b[1;33m.\u001b[0m\u001b[0m_engine\u001b[0m\u001b[1;33m.\u001b[0m\u001b[0mget_loc\u001b[0m\u001b[1;33m(\u001b[0m\u001b[0mcasted_key\u001b[0m\u001b[1;33m)\u001b[0m\u001b[1;33m\u001b[0m\u001b[1;33m\u001b[0m\u001b[0m\n\u001b[0;32m   2896\u001b[0m             \u001b[1;32mexcept\u001b[0m \u001b[0mKeyError\u001b[0m \u001b[1;32mas\u001b[0m \u001b[0merr\u001b[0m\u001b[1;33m:\u001b[0m\u001b[1;33m\u001b[0m\u001b[1;33m\u001b[0m\u001b[0m\n\u001b[1;32m-> 2897\u001b[1;33m                 \u001b[1;32mraise\u001b[0m \u001b[0mKeyError\u001b[0m\u001b[1;33m(\u001b[0m\u001b[0mkey\u001b[0m\u001b[1;33m)\u001b[0m \u001b[1;32mfrom\u001b[0m \u001b[0merr\u001b[0m\u001b[1;33m\u001b[0m\u001b[1;33m\u001b[0m\u001b[0m\n\u001b[0m\u001b[0;32m   2898\u001b[0m \u001b[1;33m\u001b[0m\u001b[0m\n\u001b[0;32m   2899\u001b[0m         \u001b[1;32mif\u001b[0m \u001b[0mtolerance\u001b[0m \u001b[1;32mis\u001b[0m \u001b[1;32mnot\u001b[0m \u001b[1;32mNone\u001b[0m\u001b[1;33m:\u001b[0m\u001b[1;33m\u001b[0m\u001b[1;33m\u001b[0m\u001b[0m\n",
      "\u001b[1;31mKeyError\u001b[0m: 'ColumnName'"
     ]
    }
   ],
   "source": [
    "# Check the data types of each column\n",
    "print(df_cleaned.dtypes)\n",
    "\n",
    "# Convert columns to appropriate data types (e.g., numeric, datetime)\n",
    "df_cleaned['ColumnName'] = pd.to_numeric(df_cleaned['ColumnName'], errors='coerce')\n",
    "# or convert to datetime:\n",
    "# df_cleaned['DateColumn'] = pd.to_datetime(df_cleaned['DateColumn'], errors='coerce')\n"
   ]
  },
  {
   "cell_type": "code",
   "execution_count": 11,
   "metadata": {},
   "outputs": [],
   "source": [
    "# Rename columns if necessary\n",
    "df_cleaned = df_cleaned.rename(columns={'OldColumnName': 'NewColumnName'})\n",
    "\n",
    "# Optionally, clean column names by stripping spaces or special characters\n",
    "df_cleaned.columns = df_cleaned.columns.str.strip()  # Removes leading/trailing spaces\n"
   ]
  },
  {
   "cell_type": "code",
   "execution_count": 20,
   "metadata": {
    "scrolled": true
   },
   "outputs": [
    {
     "ename": "KeyError",
     "evalue": "'Population'",
     "output_type": "error",
     "traceback": [
      "\u001b[1;31m---------------------------------------------------------------------------\u001b[0m",
      "\u001b[1;31mKeyError\u001b[0m                                  Traceback (most recent call last)",
      "\u001b[1;32m~\\anaconda3\\envs\\learn-env\\lib\\site-packages\\pandas\\core\\indexes\\base.py\u001b[0m in \u001b[0;36mget_loc\u001b[1;34m(self, key, method, tolerance)\u001b[0m\n\u001b[0;32m   2894\u001b[0m             \u001b[1;32mtry\u001b[0m\u001b[1;33m:\u001b[0m\u001b[1;33m\u001b[0m\u001b[1;33m\u001b[0m\u001b[0m\n\u001b[1;32m-> 2895\u001b[1;33m                 \u001b[1;32mreturn\u001b[0m \u001b[0mself\u001b[0m\u001b[1;33m.\u001b[0m\u001b[0m_engine\u001b[0m\u001b[1;33m.\u001b[0m\u001b[0mget_loc\u001b[0m\u001b[1;33m(\u001b[0m\u001b[0mcasted_key\u001b[0m\u001b[1;33m)\u001b[0m\u001b[1;33m\u001b[0m\u001b[1;33m\u001b[0m\u001b[0m\n\u001b[0m\u001b[0;32m   2896\u001b[0m             \u001b[1;32mexcept\u001b[0m \u001b[0mKeyError\u001b[0m \u001b[1;32mas\u001b[0m \u001b[0merr\u001b[0m\u001b[1;33m:\u001b[0m\u001b[1;33m\u001b[0m\u001b[1;33m\u001b[0m\u001b[0m\n",
      "\u001b[1;32mpandas\\_libs\\index.pyx\u001b[0m in \u001b[0;36mpandas._libs.index.IndexEngine.get_loc\u001b[1;34m()\u001b[0m\n",
      "\u001b[1;32mpandas\\_libs\\index.pyx\u001b[0m in \u001b[0;36mpandas._libs.index.IndexEngine.get_loc\u001b[1;34m()\u001b[0m\n",
      "\u001b[1;32mpandas\\_libs\\hashtable_class_helper.pxi\u001b[0m in \u001b[0;36mpandas._libs.hashtable.PyObjectHashTable.get_item\u001b[1;34m()\u001b[0m\n",
      "\u001b[1;32mpandas\\_libs\\hashtable_class_helper.pxi\u001b[0m in \u001b[0;36mpandas._libs.hashtable.PyObjectHashTable.get_item\u001b[1;34m()\u001b[0m\n",
      "\u001b[1;31mKeyError\u001b[0m: 'Population'",
      "\nThe above exception was the direct cause of the following exception:\n",
      "\u001b[1;31mKeyError\u001b[0m                                  Traceback (most recent call last)",
      "\u001b[1;32m<ipython-input-20-980dcbcf11aa>\u001b[0m in \u001b[0;36m<module>\u001b[1;34m\u001b[0m\n\u001b[0;32m      1\u001b[0m \u001b[1;31m# Filter out rows with unrealistic values, such as negative population values\u001b[0m\u001b[1;33m\u001b[0m\u001b[1;33m\u001b[0m\u001b[1;33m\u001b[0m\u001b[0m\n\u001b[1;32m----> 2\u001b[1;33m \u001b[0mdf_cleaned\u001b[0m \u001b[1;33m=\u001b[0m \u001b[0mdf_cleaned\u001b[0m\u001b[1;33m[\u001b[0m\u001b[0mdf_cleaned\u001b[0m\u001b[1;33m[\u001b[0m\u001b[1;34m'Population'\u001b[0m\u001b[1;33m]\u001b[0m \u001b[1;33m>\u001b[0m \u001b[1;36m0\u001b[0m\u001b[1;33m]\u001b[0m\u001b[1;33m\u001b[0m\u001b[1;33m\u001b[0m\u001b[0m\n\u001b[0m",
      "\u001b[1;32m~\\anaconda3\\envs\\learn-env\\lib\\site-packages\\pandas\\core\\frame.py\u001b[0m in \u001b[0;36m__getitem__\u001b[1;34m(self, key)\u001b[0m\n\u001b[0;32m   2900\u001b[0m             \u001b[1;32mif\u001b[0m \u001b[0mself\u001b[0m\u001b[1;33m.\u001b[0m\u001b[0mcolumns\u001b[0m\u001b[1;33m.\u001b[0m\u001b[0mnlevels\u001b[0m \u001b[1;33m>\u001b[0m \u001b[1;36m1\u001b[0m\u001b[1;33m:\u001b[0m\u001b[1;33m\u001b[0m\u001b[1;33m\u001b[0m\u001b[0m\n\u001b[0;32m   2901\u001b[0m                 \u001b[1;32mreturn\u001b[0m \u001b[0mself\u001b[0m\u001b[1;33m.\u001b[0m\u001b[0m_getitem_multilevel\u001b[0m\u001b[1;33m(\u001b[0m\u001b[0mkey\u001b[0m\u001b[1;33m)\u001b[0m\u001b[1;33m\u001b[0m\u001b[1;33m\u001b[0m\u001b[0m\n\u001b[1;32m-> 2902\u001b[1;33m             \u001b[0mindexer\u001b[0m \u001b[1;33m=\u001b[0m \u001b[0mself\u001b[0m\u001b[1;33m.\u001b[0m\u001b[0mcolumns\u001b[0m\u001b[1;33m.\u001b[0m\u001b[0mget_loc\u001b[0m\u001b[1;33m(\u001b[0m\u001b[0mkey\u001b[0m\u001b[1;33m)\u001b[0m\u001b[1;33m\u001b[0m\u001b[1;33m\u001b[0m\u001b[0m\n\u001b[0m\u001b[0;32m   2903\u001b[0m             \u001b[1;32mif\u001b[0m \u001b[0mis_integer\u001b[0m\u001b[1;33m(\u001b[0m\u001b[0mindexer\u001b[0m\u001b[1;33m)\u001b[0m\u001b[1;33m:\u001b[0m\u001b[1;33m\u001b[0m\u001b[1;33m\u001b[0m\u001b[0m\n\u001b[0;32m   2904\u001b[0m                 \u001b[0mindexer\u001b[0m \u001b[1;33m=\u001b[0m \u001b[1;33m[\u001b[0m\u001b[0mindexer\u001b[0m\u001b[1;33m]\u001b[0m\u001b[1;33m\u001b[0m\u001b[1;33m\u001b[0m\u001b[0m\n",
      "\u001b[1;32m~\\anaconda3\\envs\\learn-env\\lib\\site-packages\\pandas\\core\\indexes\\base.py\u001b[0m in \u001b[0;36mget_loc\u001b[1;34m(self, key, method, tolerance)\u001b[0m\n\u001b[0;32m   2895\u001b[0m                 \u001b[1;32mreturn\u001b[0m \u001b[0mself\u001b[0m\u001b[1;33m.\u001b[0m\u001b[0m_engine\u001b[0m\u001b[1;33m.\u001b[0m\u001b[0mget_loc\u001b[0m\u001b[1;33m(\u001b[0m\u001b[0mcasted_key\u001b[0m\u001b[1;33m)\u001b[0m\u001b[1;33m\u001b[0m\u001b[1;33m\u001b[0m\u001b[0m\n\u001b[0;32m   2896\u001b[0m             \u001b[1;32mexcept\u001b[0m \u001b[0mKeyError\u001b[0m \u001b[1;32mas\u001b[0m \u001b[0merr\u001b[0m\u001b[1;33m:\u001b[0m\u001b[1;33m\u001b[0m\u001b[1;33m\u001b[0m\u001b[0m\n\u001b[1;32m-> 2897\u001b[1;33m                 \u001b[1;32mraise\u001b[0m \u001b[0mKeyError\u001b[0m\u001b[1;33m(\u001b[0m\u001b[0mkey\u001b[0m\u001b[1;33m)\u001b[0m \u001b[1;32mfrom\u001b[0m \u001b[0merr\u001b[0m\u001b[1;33m\u001b[0m\u001b[1;33m\u001b[0m\u001b[0m\n\u001b[0m\u001b[0;32m   2898\u001b[0m \u001b[1;33m\u001b[0m\u001b[0m\n\u001b[0;32m   2899\u001b[0m         \u001b[1;32mif\u001b[0m \u001b[0mtolerance\u001b[0m \u001b[1;32mis\u001b[0m \u001b[1;32mnot\u001b[0m \u001b[1;32mNone\u001b[0m\u001b[1;33m:\u001b[0m\u001b[1;33m\u001b[0m\u001b[1;33m\u001b[0m\u001b[0m\n",
      "\u001b[1;31mKeyError\u001b[0m: 'Population'"
     ]
    }
   ],
   "source": [
    "# Filter out rows with unrealistic values, such as negative population values\n",
    "df_cleaned = df_cleaned[df_cleaned['Population'] > 0]\n"
   ]
  },
  {
   "cell_type": "code",
   "execution_count": 17,
   "metadata": {
    "scrolled": true
   },
   "outputs": [
    {
     "name": "stdout",
     "output_type": "stream",
     "text": [
      "<class 'pandas.core.frame.DataFrame'>\n",
      "Int64Index: 57 entries, 0 to 56\n",
      "Data columns (total 47 columns):\n",
      " #   Column              Non-Null Count  Dtype \n",
      "---  ------              --------------  ----- \n",
      " 0   0                   57 non-null     int64 \n",
      " 1   Average Statistics  56 non-null     object\n",
      " 2   Unnamed: 2          57 non-null     object\n",
      " 3   Unnamed: 3          11 non-null     object\n",
      " 4   Unnamed: 4          11 non-null     object\n",
      " 5   Unnamed: 5          11 non-null     object\n",
      " 6   Unnamed: 6          11 non-null     object\n",
      " 7   Unnamed: 7          11 non-null     object\n",
      " 8   Unnamed: 8          11 non-null     object\n",
      " 9   Unnamed: 9          11 non-null     object\n",
      " 10  Unnamed: 10         11 non-null     object\n",
      " 11  Unnamed: 11         11 non-null     object\n",
      " 12  Unnamed: 12         11 non-null     object\n",
      " 13  Unnamed: 13         11 non-null     object\n",
      " 14  Unnamed: 14         11 non-null     object\n",
      " 15  Unnamed: 15         11 non-null     object\n",
      " 16  Unnamed: 16         11 non-null     object\n",
      " 17  Unnamed: 17         11 non-null     object\n",
      " 18  Unnamed: 18         11 non-null     object\n",
      " 19  Unnamed: 19         11 non-null     object\n",
      " 20  Unnamed: 20         11 non-null     object\n",
      " 21  Unnamed: 21         11 non-null     object\n",
      " 22  Unnamed: 22         11 non-null     object\n",
      " 23  Unnamed: 23         11 non-null     object\n",
      " 24  Unnamed: 24         11 non-null     object\n",
      " 25  Unnamed: 25         11 non-null     object\n",
      " 26  Unnamed: 26         11 non-null     object\n",
      " 27  Unnamed: 27         11 non-null     object\n",
      " 28  Unnamed: 28         11 non-null     object\n",
      " 29  Unnamed: 29         11 non-null     object\n",
      " 30  Unnamed: 30         11 non-null     object\n",
      " 31  Unnamed: 31         11 non-null     object\n",
      " 32  Unnamed: 32         11 non-null     object\n",
      " 33  Unnamed: 33         11 non-null     object\n",
      " 34  Unnamed: 34         11 non-null     object\n",
      " 35  Unnamed: 35         11 non-null     object\n",
      " 36  Unnamed: 36         11 non-null     object\n",
      " 37  Unnamed: 37         11 non-null     object\n",
      " 38  Unnamed: 38         11 non-null     object\n",
      " 39  Unnamed: 39         11 non-null     object\n",
      " 40  Unnamed: 40         11 non-null     object\n",
      " 41  Unnamed: 41         11 non-null     object\n",
      " 42  Unnamed: 42         11 non-null     object\n",
      " 43  Unnamed: 43         11 non-null     object\n",
      " 44  Unnamed: 44         11 non-null     object\n",
      " 45  Unnamed: 45         11 non-null     object\n",
      " 46  Unnamed: 46         11 non-null     object\n",
      "dtypes: int64(1), object(46)\n",
      "memory usage: 21.4+ KB\n",
      "None\n",
      "   0  Average Statistics Unnamed: 2 Unnamed: 3 Unnamed: 4 Unnamed: 5  \\\n",
      "0  1                 NaN          0        NaN        NaN        NaN   \n",
      "1  2   JURISDICTION NAME    10005.8        NaN        NaN        NaN   \n",
      "2  3  COUNT PARTICIPANTS        9.4        NaN        NaN        NaN   \n",
      "3  4        COUNT FEMALE        4.8        NaN        NaN        NaN   \n",
      "4  5      PERCENT FEMALE      0.404        NaN        NaN        NaN   \n",
      "\n",
      "  Unnamed: 6 Unnamed: 7 Unnamed: 8 Unnamed: 9  ... Unnamed: 37 Unnamed: 38  \\\n",
      "0        NaN        NaN        NaN        NaN  ...         NaN         NaN   \n",
      "1        NaN        NaN        NaN        NaN  ...         NaN         NaN   \n",
      "2        NaN        NaN        NaN        NaN  ...         NaN         NaN   \n",
      "3        NaN        NaN        NaN        NaN  ...         NaN         NaN   \n",
      "4        NaN        NaN        NaN        NaN  ...         NaN         NaN   \n",
      "\n",
      "  Unnamed: 39 Unnamed: 40 Unnamed: 41 Unnamed: 42 Unnamed: 43 Unnamed: 44  \\\n",
      "0         NaN         NaN         NaN         NaN         NaN         NaN   \n",
      "1         NaN         NaN         NaN         NaN         NaN         NaN   \n",
      "2         NaN         NaN         NaN         NaN         NaN         NaN   \n",
      "3         NaN         NaN         NaN         NaN         NaN         NaN   \n",
      "4         NaN         NaN         NaN         NaN         NaN         NaN   \n",
      "\n",
      "  Unnamed: 45 Unnamed: 46  \n",
      "0         NaN         NaN  \n",
      "1         NaN         NaN  \n",
      "2         NaN         NaN  \n",
      "3         NaN         NaN  \n",
      "4         NaN         NaN  \n",
      "\n",
      "[5 rows x 47 columns]\n"
     ]
    }
   ],
   "source": [
    "# Check the cleaned dataset\n",
    "print(df_cleaned.info())\n",
    "print(df_cleaned.head())\n"
   ]
  },
  {
   "cell_type": "code",
   "execution_count": 15,
   "metadata": {},
   "outputs": [],
   "source": [
    "# Save the cleaned dataset to a new CSV or Excel file\n",
    "df_cleaned.to_csv('Data/cleaned_zipcode_demos.csv', index=False)\n",
    "# or for Excel:\n",
    "# df_cleaned.to_excel('Data/cleaned_zipcode_demos.xlsx', index=False)\n"
   ]
  },
  {
   "cell_type": "code",
   "execution_count": 18,
   "metadata": {
    "scrolled": true
   },
   "outputs": [
    {
     "name": "stdout",
     "output_type": "stream",
     "text": [
      "Index(['0', 'Average Statistics', 'Unnamed: 2', 'Unnamed: 3', 'Unnamed: 4',\n",
      "       'Unnamed: 5', 'Unnamed: 6', 'Unnamed: 7', 'Unnamed: 8', 'Unnamed: 9',\n",
      "       'Unnamed: 10', 'Unnamed: 11', 'Unnamed: 12', 'Unnamed: 13',\n",
      "       'Unnamed: 14', 'Unnamed: 15', 'Unnamed: 16', 'Unnamed: 17',\n",
      "       'Unnamed: 18', 'Unnamed: 19', 'Unnamed: 20', 'Unnamed: 21',\n",
      "       'Unnamed: 22', 'Unnamed: 23', 'Unnamed: 24', 'Unnamed: 25',\n",
      "       'Unnamed: 26', 'Unnamed: 27', 'Unnamed: 28', 'Unnamed: 29',\n",
      "       'Unnamed: 30', 'Unnamed: 31', 'Unnamed: 32', 'Unnamed: 33',\n",
      "       'Unnamed: 34', 'Unnamed: 35', 'Unnamed: 36', 'Unnamed: 37',\n",
      "       'Unnamed: 38', 'Unnamed: 39', 'Unnamed: 40', 'Unnamed: 41',\n",
      "       'Unnamed: 42', 'Unnamed: 43', 'Unnamed: 44', 'Unnamed: 45',\n",
      "       'Unnamed: 46'],\n",
      "      dtype='object')\n"
     ]
    }
   ],
   "source": [
    "# Print the column names to check for any typos or extra spaces\n",
    "print(df.columns)\n"
   ]
  },
  {
   "cell_type": "code",
   "execution_count": 21,
   "metadata": {
    "scrolled": true
   },
   "outputs": [
    {
     "name": "stdout",
     "output_type": "stream",
     "text": [
      "Index(['0', 'Average Statistics', 'Unnamed: 2', 'Unnamed: 3', 'Unnamed: 4',\n",
      "       'Unnamed: 5', 'Unnamed: 6', 'Unnamed: 7', 'Unnamed: 8', 'Unnamed: 9',\n",
      "       'Unnamed: 10', 'Unnamed: 11', 'Unnamed: 12', 'Unnamed: 13',\n",
      "       'Unnamed: 14', 'Unnamed: 15', 'Unnamed: 16', 'Unnamed: 17',\n",
      "       'Unnamed: 18', 'Unnamed: 19', 'Unnamed: 20', 'Unnamed: 21',\n",
      "       'Unnamed: 22', 'Unnamed: 23', 'Unnamed: 24', 'Unnamed: 25',\n",
      "       'Unnamed: 26', 'Unnamed: 27', 'Unnamed: 28', 'Unnamed: 29',\n",
      "       'Unnamed: 30', 'Unnamed: 31', 'Unnamed: 32', 'Unnamed: 33',\n",
      "       'Unnamed: 34', 'Unnamed: 35', 'Unnamed: 36', 'Unnamed: 37',\n",
      "       'Unnamed: 38', 'Unnamed: 39', 'Unnamed: 40', 'Unnamed: 41',\n",
      "       'Unnamed: 42', 'Unnamed: 43', 'Unnamed: 44', 'Unnamed: 45',\n",
      "       'Unnamed: 46'],\n",
      "      dtype='object')\n"
     ]
    }
   ],
   "source": [
    "# Remove leading/trailing spaces from column names\n",
    "df.columns = df.columns.str.strip()\n",
    "\n",
    "# Check again\n",
    "print(df.columns)\n"
   ]
  },
  {
   "cell_type": "code",
   "execution_count": 23,
   "metadata": {},
   "outputs": [],
   "source": [
    "# Check for columns related to population\n",
    "for column in df.columns:\n",
    "    if 'pop' in column.lower():  # This checks for any column with 'pop' in its name\n",
    "        print(column)\n"
   ]
  },
  {
   "cell_type": "code",
   "execution_count": 24,
   "metadata": {},
   "outputs": [
    {
     "ename": "KeyError",
     "evalue": "'Zip_Population'",
     "output_type": "error",
     "traceback": [
      "\u001b[1;31m---------------------------------------------------------------------------\u001b[0m",
      "\u001b[1;31mKeyError\u001b[0m                                  Traceback (most recent call last)",
      "\u001b[1;32m~\\anaconda3\\envs\\learn-env\\lib\\site-packages\\pandas\\core\\indexes\\base.py\u001b[0m in \u001b[0;36mget_loc\u001b[1;34m(self, key, method, tolerance)\u001b[0m\n\u001b[0;32m   2894\u001b[0m             \u001b[1;32mtry\u001b[0m\u001b[1;33m:\u001b[0m\u001b[1;33m\u001b[0m\u001b[1;33m\u001b[0m\u001b[0m\n\u001b[1;32m-> 2895\u001b[1;33m                 \u001b[1;32mreturn\u001b[0m \u001b[0mself\u001b[0m\u001b[1;33m.\u001b[0m\u001b[0m_engine\u001b[0m\u001b[1;33m.\u001b[0m\u001b[0mget_loc\u001b[0m\u001b[1;33m(\u001b[0m\u001b[0mcasted_key\u001b[0m\u001b[1;33m)\u001b[0m\u001b[1;33m\u001b[0m\u001b[1;33m\u001b[0m\u001b[0m\n\u001b[0m\u001b[0;32m   2896\u001b[0m             \u001b[1;32mexcept\u001b[0m \u001b[0mKeyError\u001b[0m \u001b[1;32mas\u001b[0m \u001b[0merr\u001b[0m\u001b[1;33m:\u001b[0m\u001b[1;33m\u001b[0m\u001b[1;33m\u001b[0m\u001b[0m\n",
      "\u001b[1;32mpandas\\_libs\\index.pyx\u001b[0m in \u001b[0;36mpandas._libs.index.IndexEngine.get_loc\u001b[1;34m()\u001b[0m\n",
      "\u001b[1;32mpandas\\_libs\\index.pyx\u001b[0m in \u001b[0;36mpandas._libs.index.IndexEngine.get_loc\u001b[1;34m()\u001b[0m\n",
      "\u001b[1;32mpandas\\_libs\\hashtable_class_helper.pxi\u001b[0m in \u001b[0;36mpandas._libs.hashtable.PyObjectHashTable.get_item\u001b[1;34m()\u001b[0m\n",
      "\u001b[1;32mpandas\\_libs\\hashtable_class_helper.pxi\u001b[0m in \u001b[0;36mpandas._libs.hashtable.PyObjectHashTable.get_item\u001b[1;34m()\u001b[0m\n",
      "\u001b[1;31mKeyError\u001b[0m: 'Zip_Population'",
      "\nThe above exception was the direct cause of the following exception:\n",
      "\u001b[1;31mKeyError\u001b[0m                                  Traceback (most recent call last)",
      "\u001b[1;32m<ipython-input-24-ee64223e7379>\u001b[0m in \u001b[0;36m<module>\u001b[1;34m\u001b[0m\n\u001b[0;32m      1\u001b[0m \u001b[1;31m# For example, if the column name was found to be 'Zip_Population'\u001b[0m\u001b[1;33m\u001b[0m\u001b[1;33m\u001b[0m\u001b[1;33m\u001b[0m\u001b[0m\n\u001b[1;32m----> 2\u001b[1;33m \u001b[0mdf_cleaned\u001b[0m \u001b[1;33m=\u001b[0m \u001b[0mdf_cleaned\u001b[0m\u001b[1;33m[\u001b[0m\u001b[0mdf_cleaned\u001b[0m\u001b[1;33m[\u001b[0m\u001b[1;34m'Zip_Population'\u001b[0m\u001b[1;33m]\u001b[0m \u001b[1;33m>\u001b[0m \u001b[1;36m0\u001b[0m\u001b[1;33m]\u001b[0m\u001b[1;33m\u001b[0m\u001b[1;33m\u001b[0m\u001b[0m\n\u001b[0m",
      "\u001b[1;32m~\\anaconda3\\envs\\learn-env\\lib\\site-packages\\pandas\\core\\frame.py\u001b[0m in \u001b[0;36m__getitem__\u001b[1;34m(self, key)\u001b[0m\n\u001b[0;32m   2900\u001b[0m             \u001b[1;32mif\u001b[0m \u001b[0mself\u001b[0m\u001b[1;33m.\u001b[0m\u001b[0mcolumns\u001b[0m\u001b[1;33m.\u001b[0m\u001b[0mnlevels\u001b[0m \u001b[1;33m>\u001b[0m \u001b[1;36m1\u001b[0m\u001b[1;33m:\u001b[0m\u001b[1;33m\u001b[0m\u001b[1;33m\u001b[0m\u001b[0m\n\u001b[0;32m   2901\u001b[0m                 \u001b[1;32mreturn\u001b[0m \u001b[0mself\u001b[0m\u001b[1;33m.\u001b[0m\u001b[0m_getitem_multilevel\u001b[0m\u001b[1;33m(\u001b[0m\u001b[0mkey\u001b[0m\u001b[1;33m)\u001b[0m\u001b[1;33m\u001b[0m\u001b[1;33m\u001b[0m\u001b[0m\n\u001b[1;32m-> 2902\u001b[1;33m             \u001b[0mindexer\u001b[0m \u001b[1;33m=\u001b[0m \u001b[0mself\u001b[0m\u001b[1;33m.\u001b[0m\u001b[0mcolumns\u001b[0m\u001b[1;33m.\u001b[0m\u001b[0mget_loc\u001b[0m\u001b[1;33m(\u001b[0m\u001b[0mkey\u001b[0m\u001b[1;33m)\u001b[0m\u001b[1;33m\u001b[0m\u001b[1;33m\u001b[0m\u001b[0m\n\u001b[0m\u001b[0;32m   2903\u001b[0m             \u001b[1;32mif\u001b[0m \u001b[0mis_integer\u001b[0m\u001b[1;33m(\u001b[0m\u001b[0mindexer\u001b[0m\u001b[1;33m)\u001b[0m\u001b[1;33m:\u001b[0m\u001b[1;33m\u001b[0m\u001b[1;33m\u001b[0m\u001b[0m\n\u001b[0;32m   2904\u001b[0m                 \u001b[0mindexer\u001b[0m \u001b[1;33m=\u001b[0m \u001b[1;33m[\u001b[0m\u001b[0mindexer\u001b[0m\u001b[1;33m]\u001b[0m\u001b[1;33m\u001b[0m\u001b[1;33m\u001b[0m\u001b[0m\n",
      "\u001b[1;32m~\\anaconda3\\envs\\learn-env\\lib\\site-packages\\pandas\\core\\indexes\\base.py\u001b[0m in \u001b[0;36mget_loc\u001b[1;34m(self, key, method, tolerance)\u001b[0m\n\u001b[0;32m   2895\u001b[0m                 \u001b[1;32mreturn\u001b[0m \u001b[0mself\u001b[0m\u001b[1;33m.\u001b[0m\u001b[0m_engine\u001b[0m\u001b[1;33m.\u001b[0m\u001b[0mget_loc\u001b[0m\u001b[1;33m(\u001b[0m\u001b[0mcasted_key\u001b[0m\u001b[1;33m)\u001b[0m\u001b[1;33m\u001b[0m\u001b[1;33m\u001b[0m\u001b[0m\n\u001b[0;32m   2896\u001b[0m             \u001b[1;32mexcept\u001b[0m \u001b[0mKeyError\u001b[0m \u001b[1;32mas\u001b[0m \u001b[0merr\u001b[0m\u001b[1;33m:\u001b[0m\u001b[1;33m\u001b[0m\u001b[1;33m\u001b[0m\u001b[0m\n\u001b[1;32m-> 2897\u001b[1;33m                 \u001b[1;32mraise\u001b[0m \u001b[0mKeyError\u001b[0m\u001b[1;33m(\u001b[0m\u001b[0mkey\u001b[0m\u001b[1;33m)\u001b[0m \u001b[1;32mfrom\u001b[0m \u001b[0merr\u001b[0m\u001b[1;33m\u001b[0m\u001b[1;33m\u001b[0m\u001b[0m\n\u001b[0m\u001b[0;32m   2898\u001b[0m \u001b[1;33m\u001b[0m\u001b[0m\n\u001b[0;32m   2899\u001b[0m         \u001b[1;32mif\u001b[0m \u001b[0mtolerance\u001b[0m \u001b[1;32mis\u001b[0m \u001b[1;32mnot\u001b[0m \u001b[1;32mNone\u001b[0m\u001b[1;33m:\u001b[0m\u001b[1;33m\u001b[0m\u001b[1;33m\u001b[0m\u001b[0m\n",
      "\u001b[1;31mKeyError\u001b[0m: 'Zip_Population'"
     ]
    }
   ],
   "source": [
    "# For example, if the column name was found to be 'Zip_Population'\n",
    "df_cleaned = df_cleaned[df_cleaned['Zip_Population'] > 0]\n"
   ]
  },
  {
   "cell_type": "markdown",
   "metadata": {},
   "source": [
    "## Summary of Actions Taken:\n",
    "Loaded the data from the file.\n",
    "Inspected the structure of the dataset using info() and describe().\n",
    "Handled missing data by either dropping or filling missing values.\n",
    "Removed duplicates to ensure uniqueness of rows.\n",
    "Ensured correct data types for each column.\n",
    "Renamed columns if needed for clarity.\n",
    "Filtered out outliers or unusual values (such as negative populations).\n",
    "Saved the cleaned dataset into a new file."
   ]
  },
  {
   "cell_type": "markdown",
   "metadata": {},
   "source": [
    "## Level Up (Optional) - Loading Corrupt CSV files\n",
    "\n",
    "Occasionally, you encounter some really ill-formatted data. One example of this can be data that has strings containing commas in a csv file. Under the standard protocol, when this occurs, one is supposed to use quotes to differentiate between the commas denoting fields and the commas within those fields themselves. For example, we could have a table like this:  \n",
    "\n",
    "`ReviewerID,Rating,N_reviews,Review,VenueID\n",
    "123456,4,137,This restaurant was pretty good, we had a great time.,98765`\n",
    "\n",
    "Which should be saved like this if it were a csv (to avoid confusion with the commas in the Review text):\n",
    "`\"ReviewerID\",\"Rating\",\"N_reviews\",\"Review\",\"VenueID\"\n",
    "\"123456\",\"4\",\"137\",\"This restaurant was pretty good, we had a great time.\",\"98765\"`\n",
    "\n",
    "Attempt to import the corrupt file, or at least a small preview of it. It is appropriately titled `'Yelp_Reviews_Corrupt.csv'`. Investigate some of the intricacies of skipping rows to then pass over this error and comment on what you think is going on."
   ]
  },
  {
   "cell_type": "code",
   "execution_count": null,
   "metadata": {},
   "outputs": [],
   "source": [
    "# Hint: Here's a useful programming pattern to use\n",
    "try:\n",
    "    # Do something\n",
    "except Exception as e:\n",
    "    # Handle your exception e"
   ]
  },
  {
   "cell_type": "code",
   "execution_count": 25,
   "metadata": {},
   "outputs": [
    {
     "name": "stdout",
     "output_type": "stream",
     "text": [
      "An error occurred: Error tokenizing data. C error: Expected 10 fields in line 2331, saw 11\n",
      "\n",
      "Loaded file with bad lines skipped.\n",
      "  Unnamed: 0             business_id cool        date funny  \\\n",
      "0          1  pomGBqfbxcqPv14c3XH-ZQ    0  2012-11-13     0   \n",
      "1          2  jtQARsP6P-LbkyjbO1qNGg    1  2014-10-23     1   \n",
      "2          4  Ums3gaP2qM3W1XcA5r6SsQ    0  2014-09-05     0   \n",
      "3          5  vgfcTvK81oD4r50NMjU2Ag    0  2011-02-25     0   \n",
      "4         10  yFumR3CWzpfvTH2FCthvVw    0  2016-06-15     0   \n",
      "\n",
      "                review_id stars  \\\n",
      "0  dDl8zu1vWPdKGihJrwQbpw     5   \n",
      "1  LZp4UX5zK3e-c5ZGSeo3kA     1   \n",
      "2  jsDu6QEJHbwP2Blom1PLCA     5   \n",
      "3  pfavA0hr3nyqO61oupj-lA     1   \n",
      "4  STiFMww2z31siPY7BWNC2g     5   \n",
      "\n",
      "                                                text useful  \\\n",
      "0  I love this place! My fiance And I go here atl...      0   \n",
      "1  Terrible. Dry corn bread. Rib tips were all fa...      3   \n",
      "2  Delicious healthy food. The steak is amazing. ...      0   \n",
      "3  This place sucks. The customer service is horr...      2   \n",
      "4  I have been an Emerald Club member for a numbe...      0   \n",
      "\n",
      "                  user_id  \n",
      "0  msQe1u7Z_XuqjGoqhB0J5g  \n",
      "1  msQe1u7Z_XuqjGoqhB0J5g  \n",
      "2  msQe1u7Z_XuqjGoqhB0J5g  \n",
      "3  msQe1u7Z_XuqjGoqhB0J5g  \n",
      "4  TlvV-xJhmh7LCwJYXkV-cg  \n"
     ]
    },
    {
     "name": "stderr",
     "output_type": "stream",
     "text": [
      "b'Skipping line 2331: expected 10 fields, saw 11\\nSkipping line 2340: expected 10 fields, saw 12\\nSkipping line 2341: expected 10 fields, saw 13\\nSkipping line 2343: expected 10 fields, saw 18\\nSkipping line 2349: expected 10 fields, saw 12\\nSkipping line 2350: expected 10 fields, saw 16\\nSkipping line 2352: expected 10 fields, saw 12\\nSkipping line 2358: expected 10 fields, saw 13\\nSkipping line 2359: expected 10 fields, saw 11\\nSkipping line 2379: expected 10 fields, saw 11\\nSkipping line 2381: expected 10 fields, saw 12\\nSkipping line 2382: expected 10 fields, saw 12\\nSkipping line 2384: expected 10 fields, saw 11\\nSkipping line 2386: expected 10 fields, saw 12\\nSkipping line 2388: expected 10 fields, saw 12\\nSkipping line 2389: expected 10 fields, saw 13\\nSkipping line 2392: expected 10 fields, saw 15\\nSkipping line 2393: expected 10 fields, saw 18\\nSkipping line 2394: expected 10 fields, saw 15\\nSkipping line 2407: expected 10 fields, saw 12\\nSkipping line 2427: expected 10 fields, saw 11\\nSkipping line 2430: expected 10 fields, saw 12\\nSkipping line 2438: expected 10 fields, saw 17\\nSkipping line 2439: expected 10 fields, saw 11\\nSkipping line 2440: expected 10 fields, saw 11\\nSkipping line 2441: expected 10 fields, saw 11\\nSkipping line 2442: expected 10 fields, saw 12\\nSkipping line 2445: expected 10 fields, saw 13\\nSkipping line 2446: expected 10 fields, saw 12\\nSkipping line 2473: expected 10 fields, saw 13\\nSkipping line 2474: expected 10 fields, saw 11\\nSkipping line 2475: expected 10 fields, saw 12\\nSkipping line 2485: expected 10 fields, saw 12\\nSkipping line 2487: expected 10 fields, saw 15\\nSkipping line 2488: expected 10 fields, saw 11\\nSkipping line 2496: expected 10 fields, saw 20\\nSkipping line 2504: expected 10 fields, saw 13\\nSkipping line 2505: expected 10 fields, saw 13\\nSkipping line 2507: expected 10 fields, saw 11\\nSkipping line 2521: expected 10 fields, saw 15\\nSkipping line 2522: expected 10 fields, saw 12\\nSkipping line 2525: expected 10 fields, saw 13\\nSkipping line 2533: expected 10 fields, saw 12\\nSkipping line 2548: expected 10 fields, saw 11\\nSkipping line 2561: expected 10 fields, saw 14\\nSkipping line 2563: expected 10 fields, saw 15\\nSkipping line 2564: expected 10 fields, saw 15\\nSkipping line 2565: expected 10 fields, saw 11\\nSkipping line 2571: expected 10 fields, saw 13\\nSkipping line 2574: expected 10 fields, saw 20\\nSkipping line 2575: expected 10 fields, saw 14\\nSkipping line 2577: expected 10 fields, saw 12\\nSkipping line 2583: expected 10 fields, saw 12\\nSkipping line 2584: expected 10 fields, saw 13\\nSkipping line 2621: expected 10 fields, saw 15\\nSkipping line 2622: expected 10 fields, saw 12\\nSkipping line 2631: expected 10 fields, saw 13\\nSkipping line 2632: expected 10 fields, saw 12\\nSkipping line 2633: expected 10 fields, saw 12\\nSkipping line 2636: expected 10 fields, saw 11\\nSkipping line 2640: expected 10 fields, saw 11\\nSkipping line 2641: expected 10 fields, saw 11\\nSkipping line 2674: expected 10 fields, saw 11\\nSkipping line 2676: expected 10 fields, saw 16\\nSkipping line 2706: expected 10 fields, saw 14\\nSkipping line 2708: expected 10 fields, saw 12\\nSkipping line 2712: expected 10 fields, saw 17\\nSkipping line 2714: expected 10 fields, saw 13\\nSkipping line 2715: expected 10 fields, saw 13\\nSkipping line 2737: expected 10 fields, saw 11\\nSkipping line 2746: expected 10 fields, saw 11\\nSkipping line 2752: expected 10 fields, saw 11\\nSkipping line 2753: expected 10 fields, saw 15\\nSkipping line 2754: expected 10 fields, saw 11\\nSkipping line 2758: expected 10 fields, saw 15\\nSkipping line 2761: expected 10 fields, saw 12\\nSkipping line 2762: expected 10 fields, saw 23\\nSkipping line 2767: expected 10 fields, saw 11\\nSkipping line 2769: expected 10 fields, saw 13\\nSkipping line 2771: expected 10 fields, saw 11\\nSkipping line 2785: expected 10 fields, saw 14\\nSkipping line 2787: expected 10 fields, saw 12\\nSkipping line 2810: expected 10 fields, saw 19\\nSkipping line 2817: expected 10 fields, saw 11\\nSkipping line 2831: expected 10 fields, saw 11\\nSkipping line 2835: expected 10 fields, saw 13\\nSkipping line 2837: expected 10 fields, saw 25\\nSkipping line 2841: expected 10 fields, saw 13\\nSkipping line 2842: expected 10 fields, saw 11\\nSkipping line 2848: expected 10 fields, saw 11\\nSkipping line 2885: expected 10 fields, saw 13\\nSkipping line 2901: expected 10 fields, saw 11\\nSkipping line 2902: expected 10 fields, saw 12\\nSkipping line 2903: expected 10 fields, saw 11\\nSkipping line 2922: expected 10 fields, saw 11\\nSkipping line 2923: expected 10 fields, saw 12\\nSkipping line 2924: expected 10 fields, saw 11\\nSkipping line 2931: expected 10 fields, saw 12\\nSkipping line 2940: expected 10 fields, saw 11\\nSkipping line 2955: expected 10 fields, saw 17\\nSkipping line 2958: expected 10 fields, saw 11\\nSkipping line 2971: expected 10 fields, saw 12\\nSkipping line 2972: expected 10 fields, saw 11\\nSkipping line 2995: expected 10 fields, saw 12\\nSkipping line 2998: expected 10 fields, saw 13\\nSkipping line 2999: expected 10 fields, saw 14\\nSkipping line 3007: expected 10 fields, saw 16\\nSkipping line 3019: expected 10 fields, saw 11\\nSkipping line 3035: expected 10 fields, saw 11\\nSkipping line 3064: expected 10 fields, saw 11\\nSkipping line 3066: expected 10 fields, saw 19\\nSkipping line 3069: expected 10 fields, saw 11\\nSkipping line 3079: expected 10 fields, saw 13\\nSkipping line 3080: expected 10 fields, saw 12\\nSkipping line 3086: expected 10 fields, saw 17\\nSkipping line 3092: expected 10 fields, saw 11\\nSkipping line 3106: expected 10 fields, saw 11\\nSkipping line 3117: expected 10 fields, saw 12\\nSkipping line 3120: expected 10 fields, saw 11\\nSkipping line 3122: expected 10 fields, saw 16\\nSkipping line 3125: expected 10 fields, saw 29\\nSkipping line 3126: expected 10 fields, saw 11\\nSkipping line 3127: expected 10 fields, saw 14\\nSkipping line 3152: expected 10 fields, saw 12\\nSkipping line 3159: expected 10 fields, saw 24\\nSkipping line 3169: expected 10 fields, saw 15\\nSkipping line 3221: expected 10 fields, saw 14\\nSkipping line 3234: expected 10 fields, saw 13\\nSkipping line 3235: expected 10 fields, saw 12\\nSkipping line 3253: expected 10 fields, saw 11\\nSkipping line 3257: expected 10 fields, saw 13\\nSkipping line 3274: expected 10 fields, saw 12\\nSkipping line 3283: expected 10 fields, saw 12\\nSkipping line 3288: expected 10 fields, saw 11\\nSkipping line 3289: expected 10 fields, saw 14\\nSkipping line 3290: expected 10 fields, saw 15\\nSkipping line 3308: expected 10 fields, saw 11\\nSkipping line 3309: expected 10 fields, saw 13\\nSkipping line 3310: expected 10 fields, saw 13\\nSkipping line 3325: expected 10 fields, saw 13\\nSkipping line 3329: expected 10 fields, saw 11\\nSkipping line 3338: expected 10 fields, saw 17\\nSkipping line 3339: expected 10 fields, saw 11\\nSkipping line 3344: expected 10 fields, saw 15\\nSkipping line 3350: expected 10 fields, saw 11\\nSkipping line 3361: expected 10 fields, saw 15\\nSkipping line 3362: expected 10 fields, saw 11\\nSkipping line 3375: expected 10 fields, saw 13\\nSkipping line 3376: expected 10 fields, saw 12\\nSkipping line 3377: expected 10 fields, saw 12\\nSkipping line 3378: expected 10 fields, saw 16\\nSkipping line 3384: expected 10 fields, saw 14\\nSkipping line 3385: expected 10 fields, saw 17\\nSkipping line 3386: expected 10 fields, saw 11\\nSkipping line 3403: expected 10 fields, saw 14\\nSkipping line 3404: expected 10 fields, saw 13\\nSkipping line 3405: expected 10 fields, saw 18\\nSkipping line 3413: expected 10 fields, saw 16\\nSkipping line 3414: expected 10 fields, saw 13\\nSkipping line 3422: expected 10 fields, saw 11\\nSkipping line 3423: expected 10 fields, saw 13\\nSkipping line 3435: expected 10 fields, saw 13\\nSkipping line 3437: expected 10 fields, saw 14\\nSkipping line 3438: expected 10 fields, saw 13\\nSkipping line 3439: expected 10 fields, saw 11\\nSkipping line 3442: expected 10 fields, saw 11\\nSkipping line 3443: expected 10 fields, saw 11\\nSkipping line 3467: expected 10 fields, saw 12\\nSkipping line 3468: expected 10 fields, saw 29\\nSkipping line 3470: expected 10 fields, saw 12\\nSkipping line 3471: expected 10 fields, saw 24\\nSkipping line 3474: expected 10 fields, saw 17\\nSkipping line 3475: expected 10 fields, saw 11\\nSkipping line 3476: expected 10 fields, saw 12\\nSkipping line 3478: expected 10 fields, saw 14\\nSkipping line 3479: expected 10 fields, saw 17\\nSkipping line 3480: expected 10 fields, saw 11\\nSkipping line 3498: expected 10 fields, saw 15\\nSkipping line 3512: expected 10 fields, saw 16\\nSkipping line 3513: expected 10 fields, saw 13\\nSkipping line 3514: expected 10 fields, saw 13\\nSkipping line 3515: expected 10 fields, saw 12\\nSkipping line 3516: expected 10 fields, saw 14\\nSkipping line 3519: expected 10 fields, saw 15\\nSkipping line 3521: expected 10 fields, saw 13\\nSkipping line 3522: expected 10 fields, saw 17\\nSkipping line 3523: expected 10 fields, saw 11\\nSkipping line 3529: expected 10 fields, saw 12\\nSkipping line 3530: expected 10 fields, saw 23\\nSkipping line 3531: expected 10 fields, saw 13\\nSkipping line 3532: expected 10 fields, saw 12\\nSkipping line 3537: expected 10 fields, saw 13\\nSkipping line 3538: expected 10 fields, saw 26\\nSkipping line 3540: expected 10 fields, saw 12\\nSkipping line 3559: expected 10 fields, saw 13\\nSkipping line 3561: expected 10 fields, saw 11\\nSkipping line 3565: expected 10 fields, saw 12\\nSkipping line 3566: expected 10 fields, saw 25\\nSkipping line 3567: expected 10 fields, saw 11\\nSkipping line 3568: expected 10 fields, saw 21\\nSkipping line 3591: expected 10 fields, saw 12\\nSkipping line 3592: expected 10 fields, saw 12\\nSkipping line 3595: expected 10 fields, saw 14\\nSkipping line 3615: expected 10 fields, saw 12\\nSkipping line 3627: expected 10 fields, saw 12\\nSkipping line 3634: expected 10 fields, saw 17\\nSkipping line 3641: expected 10 fields, saw 11\\nSkipping line 3652: expected 10 fields, saw 12\\nSkipping line 3653: expected 10 fields, saw 13\\nSkipping line 3656: expected 10 fields, saw 15\\nSkipping line 3657: expected 10 fields, saw 12\\nSkipping line 3658: expected 10 fields, saw 22\\nSkipping line 3672: expected 10 fields, saw 11\\nSkipping line 3713: expected 10 fields, saw 19\\nSkipping line 3723: expected 10 fields, saw 11\\nSkipping line 3725: expected 10 fields, saw 13\\nSkipping line 3726: expected 10 fields, saw 14\\nSkipping line 3728: expected 10 fields, saw 12\\nSkipping line 3733: expected 10 fields, saw 14\\nSkipping line 3734: expected 10 fields, saw 12\\nSkipping line 3735: expected 10 fields, saw 15\\nSkipping line 3740: expected 10 fields, saw 11\\nSkipping line 3749: expected 10 fields, saw 12\\nSkipping line 3755: expected 10 fields, saw 11\\nSkipping line 3756: expected 10 fields, saw 12\\nSkipping line 3762: expected 10 fields, saw 11\\nSkipping line 3768: expected 10 fields, saw 13\\nSkipping line 3776: expected 10 fields, saw 12\\nSkipping line 3797: expected 10 fields, saw 11\\nSkipping line 3799: expected 10 fields, saw 11\\nSkipping line 3805: expected 10 fields, saw 12\\nSkipping line 3806: expected 10 fields, saw 12\\nSkipping line 3833: expected 10 fields, saw 12\\nSkipping line 3844: expected 10 fields, saw 22\\nSkipping line 3845: expected 10 fields, saw 12\\nSkipping line 3864: expected 10 fields, saw 19\\nSkipping line 3877: expected 10 fields, saw 11\\nSkipping line 3884: expected 10 fields, saw 13\\nSkipping line 3887: expected 10 fields, saw 18\\nSkipping line 3889: expected 10 fields, saw 11\\nSkipping line 3903: expected 10 fields, saw 13\\nSkipping line 3908: expected 10 fields, saw 12\\nSkipping line 3917: expected 10 fields, saw 12\\nSkipping line 3918: expected 10 fields, saw 12\\nSkipping line 3919: expected 10 fields, saw 17\\nSkipping line 3926: expected 10 fields, saw 13\\nSkipping line 3927: expected 10 fields, saw 12\\nSkipping line 3928: expected 10 fields, saw 11\\nSkipping line 3946: expected 10 fields, saw 12\\nSkipping line 3953: expected 10 fields, saw 12\\nSkipping line 3954: expected 10 fields, saw 11\\nSkipping line 3955: expected 10 fields, saw 11\\nSkipping line 3956: expected 10 fields, saw 14\\nSkipping line 3957: expected 10 fields, saw 11\\nSkipping line 3959: expected 10 fields, saw 17\\nSkipping line 3967: expected 10 fields, saw 16\\nSkipping line 3975: expected 10 fields, saw 11\\nSkipping line 3976: expected 10 fields, saw 12\\nSkipping line 3981: expected 10 fields, saw 14\\nSkipping line 3994: expected 10 fields, saw 14\\nSkipping line 3997: expected 10 fields, saw 11\\nSkipping line 4004: expected 10 fields, saw 11\\nSkipping line 4014: expected 10 fields, saw 12\\nSkipping line 4015: expected 10 fields, saw 12\\nSkipping line 4020: expected 10 fields, saw 11\\nSkipping line 4035: expected 10 fields, saw 11\\nSkipping line 4041: expected 10 fields, saw 16\\nSkipping line 4042: expected 10 fields, saw 12\\nSkipping line 4050: expected 10 fields, saw 20\\nSkipping line 4051: expected 10 fields, saw 11\\nSkipping line 4052: expected 10 fields, saw 13\\nSkipping line 4054: expected 10 fields, saw 11\\nSkipping line 4055: expected 10 fields, saw 12\\nSkipping line 4064: expected 10 fields, saw 11\\nSkipping line 4066: expected 10 fields, saw 11\\nSkipping line 4067: expected 10 fields, saw 14\\nSkipping line 4068: expected 10 fields, saw 11\\nSkipping line 4069: expected 10 fields, saw 11\\nSkipping line 4070: expected 10 fields, saw 11\\nSkipping line 4072: expected 10 fields, saw 11\\nSkipping line 4090: expected 10 fields, saw 15\\nSkipping line 4091: expected 10 fields, saw 14\\nSkipping line 4107: expected 10 fields, saw 13\\nSkipping line 4119: expected 10 fields, saw 13\\nSkipping line 4120: expected 10 fields, saw 17\\nSkipping line 4121: expected 10 fields, saw 11\\nSkipping line 4122: expected 10 fields, saw 12\\nSkipping line 4126: expected 10 fields, saw 12\\nSkipping line 4127: expected 10 fields, saw 11\\nSkipping line 4130: expected 10 fields, saw 18\\nSkipping line 4131: expected 10 fields, saw 12\\nSkipping line 4132: expected 10 fields, saw 12\\nSkipping line 4138: expected 10 fields, saw 12\\nSkipping line 4140: expected 10 fields, saw 12\\nSkipping line 4170: expected 10 fields, saw 13\\nSkipping line 4173: expected 10 fields, saw 17\\nSkipping line 4180: expected 10 fields, saw 13\\nSkipping line 4197: expected 10 fields, saw 13\\nSkipping line 4214: expected 10 fields, saw 16\\nSkipping line 4242: expected 10 fields, saw 17\\nSkipping line 4249: expected 10 fields, saw 11\\nSkipping line 4250: expected 10 fields, saw 22\\nSkipping line 4257: expected 10 fields, saw 11\\nSkipping line 4258: expected 10 fields, saw 11\\nSkipping line 4259: expected 10 fields, saw 12\\nSkipping line 4261: expected 10 fields, saw 13\\nSkipping line 4267: expected 10 fields, saw 11\\nSkipping line 4268: expected 10 fields, saw 14\\nSkipping line 4277: expected 10 fields, saw 11\\nSkipping line 4282: expected 10 fields, saw 20\\nSkipping line 4283: expected 10 fields, saw 17\\nSkipping line 4285: expected 10 fields, saw 14\\nSkipping line 4286: expected 10 fields, saw 18\\nSkipping line 4288: expected 10 fields, saw 11\\nSkipping line 4305: expected 10 fields, saw 12\\nSkipping line 4308: expected 10 fields, saw 15\\nSkipping line 4310: expected 10 fields, saw 12\\nSkipping line 4312: expected 10 fields, saw 12\\nSkipping line 4313: expected 10 fields, saw 11\\nSkipping line 4314: expected 10 fields, saw 12\\nSkipping line 4324: expected 10 fields, saw 17\\nSkipping line 4329: expected 10 fields, saw 12\\nSkipping line 4330: expected 10 fields, saw 17\\nSkipping line 4336: expected 10 fields, saw 12\\nSkipping line 4352: expected 10 fields, saw 11\\nSkipping line 4353: expected 10 fields, saw 13\\nSkipping line 4375: expected 10 fields, saw 11\\nSkipping line 4377: expected 10 fields, saw 12\\nSkipping line 4378: expected 10 fields, saw 12\\nSkipping line 4383: expected 10 fields, saw 11\\nSkipping line 4409: expected 10 fields, saw 15\\nSkipping line 4418: expected 10 fields, saw 11\\nSkipping line 4419: expected 10 fields, saw 11\\nSkipping line 4421: expected 10 fields, saw 13\\nSkipping line 4443: expected 10 fields, saw 12\\nSkipping line 4445: expected 10 fields, saw 13\\nSkipping line 4450: expected 10 fields, saw 11\\nSkipping line 4452: expected 10 fields, saw 12\\nSkipping line 4455: expected 10 fields, saw 12\\nSkipping line 4456: expected 10 fields, saw 11\\nSkipping line 4464: expected 10 fields, saw 14\\nSkipping line 4487: expected 10 fields, saw 12\\nSkipping line 4494: expected 10 fields, saw 15\\nSkipping line 4495: expected 10 fields, saw 13\\nSkipping line 4503: expected 10 fields, saw 11\\nSkipping line 4504: expected 10 fields, saw 11\\nSkipping line 4505: expected 10 fields, saw 18\\nSkipping line 4527: expected 10 fields, saw 12\\nSkipping line 4563: expected 10 fields, saw 11\\nSkipping line 4564: expected 10 fields, saw 24\\nSkipping line 4565: expected 10 fields, saw 11\\nSkipping line 4577: expected 10 fields, saw 12\\nSkipping line 4578: expected 10 fields, saw 14\\nSkipping line 4589: expected 10 fields, saw 13\\nSkipping line 4605: expected 10 fields, saw 15\\nSkipping line 4606: expected 10 fields, saw 12\\nSkipping line 4607: expected 10 fields, saw 16\\nSkipping line 4608: expected 10 fields, saw 19\\nSkipping line 4609: expected 10 fields, saw 11\\nSkipping line 4626: expected 10 fields, saw 11\\nSkipping line 4632: expected 10 fields, saw 13\\nSkipping line 4641: expected 10 fields, saw 13\\nSkipping line 4658: expected 10 fields, saw 35\\nSkipping line 4659: expected 10 fields, saw 12\\nSkipping line 4660: expected 10 fields, saw 11\\nSkipping line 4665: expected 10 fields, saw 11\\nSkipping line 4670: expected 10 fields, saw 14\\nSkipping line 4690: expected 10 fields, saw 11\\nSkipping line 4695: expected 10 fields, saw 14\\nSkipping line 4722: expected 10 fields, saw 13\\nSkipping line 4729: expected 10 fields, saw 11\\nSkipping line 4730: expected 10 fields, saw 12\\nSkipping line 4741: expected 10 fields, saw 12\\nSkipping line 4742: expected 10 fields, saw 11\\nSkipping line 4764: expected 10 fields, saw 12\\nSkipping line 4765: expected 10 fields, saw 13\\nSkipping line 4775: expected 10 fields, saw 11\\nSkipping line 4776: expected 10 fields, saw 11\\nSkipping line 4777: expected 10 fields, saw 11\\nSkipping line 4781: expected 10 fields, saw 28\\nSkipping line 4782: expected 10 fields, saw 11\\nSkipping line 4784: expected 10 fields, saw 11\\nSkipping line 4786: expected 10 fields, saw 11\\nSkipping line 4787: expected 10 fields, saw 20\\nSkipping line 4788: expected 10 fields, saw 11\\nSkipping line 4801: expected 10 fields, saw 11\\nSkipping line 4802: expected 10 fields, saw 27\\nSkipping line 4803: expected 10 fields, saw 11\\nSkipping line 4804: expected 10 fields, saw 18\\nSkipping line 4806: expected 10 fields, saw 12\\nSkipping line 4808: expected 10 fields, saw 16\\nSkipping line 4809: expected 10 fields, saw 11\\nSkipping line 4825: expected 10 fields, saw 17\\nSkipping line 4833: expected 10 fields, saw 11\\nSkipping line 4839: expected 10 fields, saw 13\\nSkipping line 4840: expected 10 fields, saw 12\\nSkipping line 4854: expected 10 fields, saw 11\\nSkipping line 4856: expected 10 fields, saw 19\\nSkipping line 4859: expected 10 fields, saw 12\\nSkipping line 4860: expected 10 fields, saw 11\\nSkipping line 4861: expected 10 fields, saw 12\\nSkipping line 4862: expected 10 fields, saw 12\\nSkipping line 4863: expected 10 fields, saw 11\\nSkipping line 4864: expected 10 fields, saw 14\\nSkipping line 4865: expected 10 fields, saw 15\\nSkipping line 4866: expected 10 fields, saw 11\\nSkipping line 4870: expected 10 fields, saw 14\\nSkipping line 4878: expected 10 fields, saw 12\\nSkipping line 4880: expected 10 fields, saw 14\\nSkipping line 4881: expected 10 fields, saw 12\\nSkipping line 4891: expected 10 fields, saw 11\\nSkipping line 4896: expected 10 fields, saw 11\\nSkipping line 4897: expected 10 fields, saw 11\\nSkipping line 4909: expected 10 fields, saw 14\\nSkipping line 4911: expected 10 fields, saw 11\\nSkipping line 4912: expected 10 fields, saw 12\\nSkipping line 4918: expected 10 fields, saw 20\\nSkipping line 4919: expected 10 fields, saw 11\\nSkipping line 4922: expected 10 fields, saw 20\\nSkipping line 4924: expected 10 fields, saw 11\\nSkipping line 4925: expected 10 fields, saw 13\\nSkipping line 4935: expected 10 fields, saw 12\\nSkipping line 4967: expected 10 fields, saw 12\\nSkipping line 4975: expected 10 fields, saw 13\\nSkipping line 4976: expected 10 fields, saw 12\\nSkipping line 4977: expected 10 fields, saw 11\\nSkipping line 4991: expected 10 fields, saw 11\\nSkipping line 5018: expected 10 fields, saw 14\\nSkipping line 5030: expected 10 fields, saw 19\\nSkipping line 5031: expected 10 fields, saw 13\\nSkipping line 5032: expected 10 fields, saw 11\\nSkipping line 5033: expected 10 fields, saw 11\\nSkipping line 5035: expected 10 fields, saw 13\\nSkipping line 5036: expected 10 fields, saw 11\\nSkipping line 5048: expected 10 fields, saw 11\\nSkipping line 5050: expected 10 fields, saw 12\\nSkipping line 5063: expected 10 fields, saw 13\\nSkipping line 5072: expected 10 fields, saw 11\\nSkipping line 5080: expected 10 fields, saw 16\\nSkipping line 5081: expected 10 fields, saw 11\\nSkipping line 5082: expected 10 fields, saw 16\\nSkipping line 5085: expected 10 fields, saw 13\\nSkipping line 5087: expected 10 fields, saw 12\\nSkipping line 5093: expected 10 fields, saw 18\\nSkipping line 5095: expected 10 fields, saw 11\\nSkipping line 5096: expected 10 fields, saw 11\\nSkipping line 5098: expected 10 fields, saw 13\\nSkipping line 5099: expected 10 fields, saw 11\\nSkipping line 5100: expected 10 fields, saw 17\\nSkipping line 5111: expected 10 fields, saw 11\\nSkipping line 5118: expected 10 fields, saw 11\\nSkipping line 5119: expected 10 fields, saw 14\\nSkipping line 5139: expected 10 fields, saw 13\\nSkipping line 5140: expected 10 fields, saw 13\\nSkipping line 5141: expected 10 fields, saw 12\\nSkipping line 5143: expected 10 fields, saw 15\\nSkipping line 5151: expected 10 fields, saw 11\\nSkipping line 5155: expected 10 fields, saw 14\\nSkipping line 5170: expected 10 fields, saw 11\\nSkipping line 5175: expected 10 fields, saw 11\\nSkipping line 5180: expected 10 fields, saw 12\\nSkipping line 5181: expected 10 fields, saw 11\\nSkipping line 5182: expected 10 fields, saw 23\\nSkipping line 5188: expected 10 fields, saw 17\\nSkipping line 5189: expected 10 fields, saw 11\\nSkipping line 5195: expected 10 fields, saw 17\\nSkipping line 5196: expected 10 fields, saw 11\\nSkipping line 5198: expected 10 fields, saw 14\\nSkipping line 5234: expected 10 fields, saw 11\\nSkipping line 5235: expected 10 fields, saw 12\\nSkipping line 5237: expected 10 fields, saw 11\\nSkipping line 5238: expected 10 fields, saw 13\\nSkipping line 5246: expected 10 fields, saw 18\\nSkipping line 5255: expected 10 fields, saw 11\\nSkipping line 5258: expected 10 fields, saw 12\\nSkipping line 5267: expected 10 fields, saw 14\\nSkipping line 5268: expected 10 fields, saw 11\\nSkipping line 5271: expected 10 fields, saw 11\\nSkipping line 5272: expected 10 fields, saw 13\\nSkipping line 5277: expected 10 fields, saw 17\\nSkipping line 5291: expected 10 fields, saw 14\\nSkipping line 5293: expected 10 fields, saw 12\\nSkipping line 5294: expected 10 fields, saw 12\\nSkipping line 5295: expected 10 fields, saw 16\\nSkipping line 5298: expected 10 fields, saw 13\\nSkipping line 5302: expected 10 fields, saw 14\\nSkipping line 5303: expected 10 fields, saw 11\\nSkipping line 5304: expected 10 fields, saw 13\\nSkipping line 5310: expected 10 fields, saw 11\\nSkipping line 5323: expected 10 fields, saw 14\\nSkipping line 5327: expected 10 fields, saw 14\\nSkipping line 5329: expected 10 fields, saw 12\\nSkipping line 5330: expected 10 fields, saw 15\\nSkipping line 5333: expected 10 fields, saw 11\\nSkipping line 5334: expected 10 fields, saw 13\\nSkipping line 5335: expected 10 fields, saw 22\\nSkipping line 5363: expected 10 fields, saw 17\\nSkipping line 5364: expected 10 fields, saw 12\\nSkipping line 5377: expected 10 fields, saw 12\\nSkipping line 5378: expected 10 fields, saw 11\\nSkipping line 5384: expected 10 fields, saw 12\\nSkipping line 5385: expected 10 fields, saw 11\\nSkipping line 5392: expected 10 fields, saw 14\\nSkipping line 5394: expected 10 fields, saw 16\\nSkipping line 5395: expected 10 fields, saw 13\\nSkipping line 5406: expected 10 fields, saw 17\\nSkipping line 5417: expected 10 fields, saw 34\\nSkipping line 5428: expected 10 fields, saw 19\\nSkipping line 5431: expected 10 fields, saw 11\\nSkipping line 5432: expected 10 fields, saw 12\\nSkipping line 5433: expected 10 fields, saw 11\\nSkipping line 5434: expected 10 fields, saw 15\\nSkipping line 5435: expected 10 fields, saw 15\\nSkipping line 5469: expected 10 fields, saw 11\\nSkipping line 5470: expected 10 fields, saw 16\\nSkipping line 5472: expected 10 fields, saw 11\\nSkipping line 5473: expected 10 fields, saw 11\\nSkipping line 5474: expected 10 fields, saw 12\\nSkipping line 5477: expected 10 fields, saw 17\\nSkipping line 5488: expected 10 fields, saw 12\\nSkipping line 5498: expected 10 fields, saw 12\\nSkipping line 5502: expected 10 fields, saw 13\\nSkipping line 5514: expected 10 fields, saw 12\\nSkipping line 5532: expected 10 fields, saw 16\\nSkipping line 5544: expected 10 fields, saw 13\\nSkipping line 5552: expected 10 fields, saw 14\\nSkipping line 5553: expected 10 fields, saw 15\\nSkipping line 5563: expected 10 fields, saw 13\\nSkipping line 5564: expected 10 fields, saw 11\\nSkipping line 5573: expected 10 fields, saw 12\\nSkipping line 5601: expected 10 fields, saw 14\\nSkipping line 5609: expected 10 fields, saw 11\\nSkipping line 5610: expected 10 fields, saw 12\\nSkipping line 5611: expected 10 fields, saw 19\\nSkipping line 5612: expected 10 fields, saw 13\\nSkipping line 5616: expected 10 fields, saw 12\\nSkipping line 5618: expected 10 fields, saw 11\\nSkipping line 5619: expected 10 fields, saw 11\\nSkipping line 5620: expected 10 fields, saw 11\\nSkipping line 5632: expected 10 fields, saw 12\\nSkipping line 5633: expected 10 fields, saw 11\\nSkipping line 5634: expected 10 fields, saw 11\\nSkipping line 5636: expected 10 fields, saw 11\\nSkipping line 5637: expected 10 fields, saw 11\\nSkipping line 5638: expected 10 fields, saw 12\\nSkipping line 5639: expected 10 fields, saw 11\\nSkipping line 5647: expected 10 fields, saw 12\\nSkipping line 5648: expected 10 fields, saw 14\\nSkipping line 5656: expected 10 fields, saw 12\\nSkipping line 5663: expected 10 fields, saw 15\\nSkipping line 5664: expected 10 fields, saw 13\\nSkipping line 5666: expected 10 fields, saw 13\\nSkipping line 5689: expected 10 fields, saw 12\\nSkipping line 5694: expected 10 fields, saw 16\\nSkipping line 5738: expected 10 fields, saw 13\\nSkipping line 5743: expected 10 fields, saw 13\\nSkipping line 5780: expected 10 fields, saw 16\\nSkipping line 5781: expected 10 fields, saw 13\\nSkipping line 5782: expected 10 fields, saw 12\\nSkipping line 5789: expected 10 fields, saw 17\\nSkipping line 5790: expected 10 fields, saw 11\\nSkipping line 5791: expected 10 fields, saw 11\\nSkipping line 5792: expected 10 fields, saw 14\\nSkipping line 5815: expected 10 fields, saw 14\\nSkipping line 5816: expected 10 fields, saw 11\\nSkipping line 5817: expected 10 fields, saw 11\\nSkipping line 5819: expected 10 fields, saw 11\\nSkipping line 5836: expected 10 fields, saw 12\\nSkipping line 5845: expected 10 fields, saw 24\\nSkipping line 5859: expected 10 fields, saw 13\\nSkipping line 5861: expected 10 fields, saw 19\\nSkipping line 5863: expected 10 fields, saw 19\\nSkipping line 5864: expected 10 fields, saw 14\\nSkipping line 5865: expected 10 fields, saw 14\\nSkipping line 5866: expected 10 fields, saw 12\\nSkipping line 5869: expected 10 fields, saw 11\\nSkipping line 5872: expected 10 fields, saw 14\\nSkipping line 5878: expected 10 fields, saw 12\\nSkipping line 5880: expected 10 fields, saw 16\\nSkipping line 5884: expected 10 fields, saw 13\\nSkipping line 5903: expected 10 fields, saw 11\\nSkipping line 5905: expected 10 fields, saw 11\\nSkipping line 5906: expected 10 fields, saw 16\\nSkipping line 5910: expected 10 fields, saw 18\\nSkipping line 5918: expected 10 fields, saw 11\\nSkipping line 5919: expected 10 fields, saw 13\\nSkipping line 5920: expected 10 fields, saw 14\\nSkipping line 5938: expected 10 fields, saw 11\\nSkipping line 5941: expected 10 fields, saw 20\\nSkipping line 5963: expected 10 fields, saw 14\\nSkipping line 5968: expected 10 fields, saw 11\\nSkipping line 5969: expected 10 fields, saw 11\\nSkipping line 5970: expected 10 fields, saw 22\\nSkipping line 5972: expected 10 fields, saw 15\\nSkipping line 5975: expected 10 fields, saw 15\\nSkipping line 5988: expected 10 fields, saw 12\\nSkipping line 5990: expected 10 fields, saw 14\\nSkipping line 6020: expected 10 fields, saw 12\\nSkipping line 6022: expected 10 fields, saw 11\\nSkipping line 6023: expected 10 fields, saw 11\\nSkipping line 6024: expected 10 fields, saw 11\\nSkipping line 6027: expected 10 fields, saw 11\\nSkipping line 6029: expected 10 fields, saw 11\\nSkipping line 6036: expected 10 fields, saw 11\\nSkipping line 6047: expected 10 fields, saw 12\\nSkipping line 6048: expected 10 fields, saw 15\\nSkipping line 6055: expected 10 fields, saw 13\\nSkipping line 6056: expected 10 fields, saw 11\\nSkipping line 6062: expected 10 fields, saw 29\\nSkipping line 6064: expected 10 fields, saw 18\\nSkipping line 6069: expected 10 fields, saw 11\\nSkipping line 6071: expected 10 fields, saw 12\\nSkipping line 6084: expected 10 fields, saw 12\\nSkipping line 6085: expected 10 fields, saw 12\\nSkipping line 6086: expected 10 fields, saw 11\\nSkipping line 6109: expected 10 fields, saw 11\\n'\n"
     ]
    }
   ],
   "source": [
    "import pandas as pd\n",
    "\n",
    "# File path for the corrupt CSV file\n",
    "file_path = 'Data/Yelp_Reviews_Corrupt.csv'\n",
    "\n",
    "# Try loading the CSV file with proper handling of quoted commas\n",
    "try:\n",
    "    # Attempt to load the CSV with the correct quote handling\n",
    "    df = pd.read_csv(file_path, quotechar='\"')\n",
    "    \n",
    "    # If successful, print the first few rows to verify\n",
    "    print(df.head())\n",
    "\n",
    "except Exception as e:\n",
    "    # Handle any exception that occurs during the loading\n",
    "    print(f\"An error occurred: {e}\")\n",
    "    \n",
    "    # Try loading with error_bad_lines=False to skip malformed rows\n",
    "    try:\n",
    "        df = pd.read_csv(file_path, quotechar='\"', error_bad_lines=False)\n",
    "        print(\"Loaded file with bad lines skipped.\")\n",
    "        print(df.head())\n",
    "    except Exception as inner_e:\n",
    "        print(f\"An error occurred while skipping bad lines: {inner_e}\")\n"
   ]
  },
  {
   "cell_type": "markdown",
   "metadata": {},
   "source": [
    "## Summary\n",
    "\n",
    "Congratulations, you now practiced your Pandas-importing skills."
   ]
  }
 ],
 "metadata": {
  "kernelspec": {
   "display_name": "Python 3",
   "language": "python",
   "name": "python3"
  },
  "language_info": {
   "codemirror_mode": {
    "name": "ipython",
    "version": 3
   },
   "file_extension": ".py",
   "mimetype": "text/x-python",
   "name": "python",
   "nbconvert_exporter": "python",
   "pygments_lexer": "ipython3",
   "version": "3.8.5"
  }
 },
 "nbformat": 4,
 "nbformat_minor": 2
}
